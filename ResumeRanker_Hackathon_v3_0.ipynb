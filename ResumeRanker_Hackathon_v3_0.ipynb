{
  "nbformat": 4,
  "nbformat_minor": 0,
  "metadata": {
    "colab": {
      "name": "ResumeRanker_Hackathon_v2.0.ipynb",
      "provenance": [],
      "collapsed_sections": [
        "EboToFRjM1LU",
        "e0DSE7pry2gC",
        "AApnCC4cy_Hy",
        "LMb7jwp8vqUx",
        "hFuvLBXU2mAC"
      ],
      "toc_visible": true
    },
    "kernelspec": {
      "name": "python3",
      "display_name": "Python 3"
    },
    "language_info": {
      "name": "python"
    },
    "accelerator": "GPU"
  },
  "cells": [
    {
      "cell_type": "markdown",
      "metadata": {
        "id": "d0vO_o9e7T7M"
      },
      "source": [
        "## **Importing Libraries**"
      ]
    },
    {
      "cell_type": "code",
      "metadata": {
        "id": "_UxfyNDZ4vls",
        "colab": {
          "base_uri": "https://localhost:8080/"
        },
        "outputId": "0894a678-9267-45f3-945d-66c829d524f6"
      },
      "source": [
        "# Installing packages to read pdf and document(doc/docx)\n",
        "# Installing Spacy  for Extracting the important text\n",
        "\n",
        "!pip install pdfminer.six \n",
        "!pip install docx2txt\n",
        "!pip install python-docx\n",
        "!pip install spacy"
      ],
      "execution_count": 1,
      "outputs": [
        {
          "output_type": "stream",
          "text": [
            "Requirement already satisfied: pdfminer.six in /usr/local/lib/python3.7/dist-packages (20201018)\n",
            "Requirement already satisfied: sortedcontainers in /usr/local/lib/python3.7/dist-packages (from pdfminer.six) (2.4.0)\n",
            "Requirement already satisfied: cryptography in /usr/local/lib/python3.7/dist-packages (from pdfminer.six) (3.4.7)\n",
            "Requirement already satisfied: chardet; python_version > \"3.0\" in /usr/local/lib/python3.7/dist-packages (from pdfminer.six) (3.0.4)\n",
            "Requirement already satisfied: cffi>=1.12 in /usr/local/lib/python3.7/dist-packages (from cryptography->pdfminer.six) (1.14.5)\n",
            "Requirement already satisfied: pycparser in /usr/local/lib/python3.7/dist-packages (from cffi>=1.12->cryptography->pdfminer.six) (2.20)\n",
            "Requirement already satisfied: docx2txt in /usr/local/lib/python3.7/dist-packages (0.8)\n",
            "Requirement already satisfied: python-docx in /usr/local/lib/python3.7/dist-packages (0.8.11)\n",
            "Requirement already satisfied: lxml>=2.3.2 in /usr/local/lib/python3.7/dist-packages (from python-docx) (4.2.6)\n",
            "Requirement already satisfied: spacy in /usr/local/lib/python3.7/dist-packages (2.2.4)\n",
            "Requirement already satisfied: catalogue<1.1.0,>=0.0.7 in /usr/local/lib/python3.7/dist-packages (from spacy) (1.0.0)\n",
            "Requirement already satisfied: preshed<3.1.0,>=3.0.2 in /usr/local/lib/python3.7/dist-packages (from spacy) (3.0.5)\n",
            "Requirement already satisfied: requests<3.0.0,>=2.13.0 in /usr/local/lib/python3.7/dist-packages (from spacy) (2.23.0)\n",
            "Requirement already satisfied: blis<0.5.0,>=0.4.0 in /usr/local/lib/python3.7/dist-packages (from spacy) (0.4.1)\n",
            "Requirement already satisfied: tqdm<5.0.0,>=4.38.0 in /usr/local/lib/python3.7/dist-packages (from spacy) (4.41.1)\n",
            "Requirement already satisfied: setuptools in /usr/local/lib/python3.7/dist-packages (from spacy) (57.0.0)\n",
            "Requirement already satisfied: murmurhash<1.1.0,>=0.28.0 in /usr/local/lib/python3.7/dist-packages (from spacy) (1.0.5)\n",
            "Requirement already satisfied: numpy>=1.15.0 in /usr/local/lib/python3.7/dist-packages (from spacy) (1.19.5)\n",
            "Requirement already satisfied: cymem<2.1.0,>=2.0.2 in /usr/local/lib/python3.7/dist-packages (from spacy) (2.0.5)\n",
            "Requirement already satisfied: plac<1.2.0,>=0.9.6 in /usr/local/lib/python3.7/dist-packages (from spacy) (1.1.3)\n",
            "Requirement already satisfied: wasabi<1.1.0,>=0.4.0 in /usr/local/lib/python3.7/dist-packages (from spacy) (0.8.2)\n",
            "Requirement already satisfied: srsly<1.1.0,>=1.0.2 in /usr/local/lib/python3.7/dist-packages (from spacy) (1.0.5)\n",
            "Requirement already satisfied: thinc==7.4.0 in /usr/local/lib/python3.7/dist-packages (from spacy) (7.4.0)\n",
            "Requirement already satisfied: importlib-metadata>=0.20; python_version < \"3.8\" in /usr/local/lib/python3.7/dist-packages (from catalogue<1.1.0,>=0.0.7->spacy) (4.5.0)\n",
            "Requirement already satisfied: idna<3,>=2.5 in /usr/local/lib/python3.7/dist-packages (from requests<3.0.0,>=2.13.0->spacy) (2.10)\n",
            "Requirement already satisfied: chardet<4,>=3.0.2 in /usr/local/lib/python3.7/dist-packages (from requests<3.0.0,>=2.13.0->spacy) (3.0.4)\n",
            "Requirement already satisfied: urllib3!=1.25.0,!=1.25.1,<1.26,>=1.21.1 in /usr/local/lib/python3.7/dist-packages (from requests<3.0.0,>=2.13.0->spacy) (1.24.3)\n",
            "Requirement already satisfied: certifi>=2017.4.17 in /usr/local/lib/python3.7/dist-packages (from requests<3.0.0,>=2.13.0->spacy) (2021.5.30)\n",
            "Requirement already satisfied: typing-extensions>=3.6.4; python_version < \"3.8\" in /usr/local/lib/python3.7/dist-packages (from importlib-metadata>=0.20; python_version < \"3.8\"->catalogue<1.1.0,>=0.0.7->spacy) (3.7.4.3)\n",
            "Requirement already satisfied: zipp>=0.5 in /usr/local/lib/python3.7/dist-packages (from importlib-metadata>=0.20; python_version < \"3.8\"->catalogue<1.1.0,>=0.0.7->spacy) (3.4.1)\n"
          ],
          "name": "stdout"
        }
      ]
    },
    {
      "cell_type": "code",
      "metadata": {
        "id": "fCSitjik7TDV"
      },
      "source": [
        "from pdfminer.converter import TextConverter\n",
        "from pdfminer.pdfinterp import PDFPageInterpreter\n",
        "from pdfminer.pdfinterp import PDFResourceManager\n",
        "from pdfminer.layout import LAParams\n",
        "from pdfminer.pdfpage import PDFPage\n",
        "\n",
        "import docx2txt\n",
        "import io\n",
        "import spacy\n",
        "from spacy.matcher import Matcher\n",
        "import en_core_web_sm\n",
        "\n",
        "import re\n",
        "\n",
        "import pandas as pd\n",
        "import numpy as np\n",
        "\n",
        "import seaborn as sns\n",
        "import matplotlib.pyplot as plt\n",
        "%matplotlib inline\n",
        "\n",
        "from wordcloud import WordCloud\n",
        "import operator\n",
        "\n",
        "import glob\n",
        "\n",
        "from gensim.summarization.summarizer import summarize\n",
        "\n",
        "from sklearn.feature_extraction.text import CountVectorizer\n",
        "from sklearn.metrics.pairwise import cosine_similarity"
      ],
      "execution_count": 2,
      "outputs": []
    },
    {
      "cell_type": "code",
      "metadata": {
        "colab": {
          "base_uri": "https://localhost:8080/"
        },
        "id": "rfOetOgo-Dz9",
        "outputId": "1d3ca98d-6dc6-4925-eecb-6c683264a091"
      },
      "source": [
        "from google.colab import drive\n",
        "drive.mount('/content/drive')"
      ],
      "execution_count": 3,
      "outputs": [
        {
          "output_type": "stream",
          "text": [
            "Drive already mounted at /content/drive; to attempt to forcibly remount, call drive.mount(\"/content/drive\", force_remount=True).\n"
          ],
          "name": "stdout"
        }
      ]
    },
    {
      "cell_type": "markdown",
      "metadata": {
        "id": "04dY4OwZk-sG"
      },
      "source": [
        "## **Iterating over the files in Resume folder and creating list**"
      ]
    },
    {
      "cell_type": "code",
      "metadata": {
        "colab": {
          "base_uri": "https://localhost:8080/"
        },
        "id": "cCIiigSceBq2",
        "outputId": "0ae02a5a-8b60-457e-c99c-9ed5c30cd077"
      },
      "source": [
        "fileName= []\n",
        "for filename in glob.iglob('/content/drive/My Drive/Kaggle/ResumeRanker/Resume/*', recursive=True):\n",
        "  fileName.append(filename)\n",
        "\n",
        "fileName"
      ],
      "execution_count": 4,
      "outputs": [
        {
          "output_type": "execute_result",
          "data": {
            "text/plain": [
              "['/content/drive/My Drive/Kaggle/ResumeRanker/Resume/AnushaViraj_Resume.pdf',\n",
              " '/content/drive/My Drive/Kaggle/ResumeRanker/Resume/Monicaa_Kuppan_Resume.pdf',\n",
              " '/content/drive/My Drive/Kaggle/ResumeRanker/Resume/Shreya_Resume.pdf',\n",
              " '/content/drive/My Drive/Kaggle/ResumeRanker/Resume/Yashik_Resume.pdf',\n",
              " '/content/drive/My Drive/Kaggle/ResumeRanker/Resume/Reshma5yrsQAAnalyst.pdf',\n",
              " '/content/drive/My Drive/Kaggle/ResumeRanker/Resume/Rashmi_Java_5Yrs.docx']"
            ]
          },
          "metadata": {
            "tags": []
          },
          "execution_count": 4
        }
      ]
    },
    {
      "cell_type": "markdown",
      "metadata": {
        "id": "FgqWD5GfCvnd"
      },
      "source": [
        "## **Reading PDF as Text**"
      ]
    },
    {
      "cell_type": "code",
      "metadata": {
        "id": "klvtLNpl7RQE"
      },
      "source": [
        "def extract_text_from_pdf(pdf_path):\n",
        "    with open(pdf_path, 'rb') as fh:\n",
        "        # iterate over all pages of PDF document\n",
        "        for page in PDFPage.get_pages(fh, caching=True, check_extractable=True):\n",
        "            # creating a resoure manager\n",
        "            resource_manager = PDFResourceManager()\n",
        "            \n",
        "            # create a file handle\n",
        "            file_handle = io.StringIO()\n",
        "            \n",
        "            # creating a text converter object\n",
        "            converter = TextConverter(\n",
        "                                resource_manager, \n",
        "                                file_handle, \n",
        "                                codec='utf-8', \n",
        "                                laparams=LAParams()\n",
        "                        )\n",
        "\n",
        "            # creating a page interpreter\n",
        "            page_interpreter = PDFPageInterpreter(\n",
        "                                resource_manager, \n",
        "                                converter\n",
        "                            )\n",
        "\n",
        "            # process current page\n",
        "            page_interpreter.process_page(page)\n",
        "            \n",
        "            # extract text\n",
        "            text = file_handle.getvalue()\n",
        "            yield text\n",
        "\n",
        "            # close open handles\n",
        "            converter.close()\n",
        "            file_handle.close()"
      ],
      "execution_count": 5,
      "outputs": []
    },
    {
      "cell_type": "markdown",
      "metadata": {
        "id": "Xa3dNPVtCrkK"
      },
      "source": [
        "## **Reading document as Text**"
      ]
    },
    {
      "cell_type": "code",
      "metadata": {
        "id": "iK4ppSMT_V4P"
      },
      "source": [
        "def extract_text_from_doc(doc_path):\n",
        "    temp = docx2txt.process(doc_path)\n",
        "    text = [line.replace('\\t', ' ') for line in temp.split('\\n') if line]\n",
        "    return ' '.join(text)"
      ],
      "execution_count": 6,
      "outputs": []
    },
    {
      "cell_type": "markdown",
      "metadata": {
        "id": "em8pWLkilL0G"
      },
      "source": [
        "## **Iterating over Resume and fetching Text**"
      ]
    },
    {
      "cell_type": "code",
      "metadata": {
        "id": "5bKWy5D3e_Rz",
        "colab": {
          "base_uri": "https://localhost:8080/"
        },
        "outputId": "e255b789-e761-4830-9c14-3bcd0bbbe96f"
      },
      "source": [
        "resumeList = []\n",
        "for file in fileName:\n",
        "  if '.pdf' in file:\n",
        "    print(\"Reading resume for: {}\".format(file))\n",
        "    pdfText = ''\n",
        "    for page in extract_text_from_pdf(file):\n",
        "      pdfText += ' ' + page\n",
        "    resumeList.append(pdfText)\n",
        "  else:\n",
        "    print(\"Reading resume for: {}\".format(file))\n",
        "    text = extract_text_from_doc(file)\n",
        "    resumeList.append(text)"
      ],
      "execution_count": 7,
      "outputs": [
        {
          "output_type": "stream",
          "text": [
            "Reading resume for: /content/drive/My Drive/Kaggle/ResumeRanker/Resume/AnushaViraj_Resume.pdf\n",
            "Reading resume for: /content/drive/My Drive/Kaggle/ResumeRanker/Resume/Monicaa_Kuppan_Resume.pdf\n",
            "Reading resume for: /content/drive/My Drive/Kaggle/ResumeRanker/Resume/Shreya_Resume.pdf\n",
            "Reading resume for: /content/drive/My Drive/Kaggle/ResumeRanker/Resume/Yashik_Resume.pdf\n",
            "Reading resume for: /content/drive/My Drive/Kaggle/ResumeRanker/Resume/Reshma5yrsQAAnalyst.pdf\n",
            "Reading resume for: /content/drive/My Drive/Kaggle/ResumeRanker/Resume/Rashmi_Java_5Yrs.docx\n"
          ],
          "name": "stdout"
        }
      ]
    },
    {
      "cell_type": "markdown",
      "metadata": {
        "id": "y-rjS9GylRrQ"
      },
      "source": [
        "## **Creating pandas Dataframe**"
      ]
    },
    {
      "cell_type": "code",
      "metadata": {
        "colab": {
          "base_uri": "https://localhost:8080/",
          "height": 235
        },
        "id": "S68Fs1FBgCel",
        "outputId": "f1b5aad0-15ec-48a7-b167-dc12e6b5bd4e"
      },
      "source": [
        "resume = pd.DataFrame(resumeList, columns=['ResumeText'])\n",
        "resume"
      ],
      "execution_count": 8,
      "outputs": [
        {
          "output_type": "execute_result",
          "data": {
            "text/html": [
              "<div>\n",
              "<style scoped>\n",
              "    .dataframe tbody tr th:only-of-type {\n",
              "        vertical-align: middle;\n",
              "    }\n",
              "\n",
              "    .dataframe tbody tr th {\n",
              "        vertical-align: top;\n",
              "    }\n",
              "\n",
              "    .dataframe thead th {\n",
              "        text-align: right;\n",
              "    }\n",
              "</style>\n",
              "<table border=\"1\" class=\"dataframe\">\n",
              "  <thead>\n",
              "    <tr style=\"text-align: right;\">\n",
              "      <th></th>\n",
              "      <th>ResumeText</th>\n",
              "    </tr>\n",
              "  </thead>\n",
              "  <tbody>\n",
              "    <tr>\n",
              "      <th>0</th>\n",
              "      <td>Anusha Viraj \\nSenior Automation Engineer \\n\\...</td>\n",
              "    </tr>\n",
              "    <tr>\n",
              "      <th>1</th>\n",
              "      <td>\\n\\n \\n\\n \\n\\n \\n\\n \\n\\n \\n\\n \\n\\n \\n\\n \\n\\n...</td>\n",
              "    </tr>\n",
              "    <tr>\n",
              "      <th>2</th>\n",
              "      <td>Shreya Anant Mahuli (MCA) \\nE-M  ail:shreyama...</td>\n",
              "    </tr>\n",
              "    <tr>\n",
              "      <th>3</th>\n",
              "      <td>Yashik Narula\\nProgrammer Analyst\\nTo Achieve...</td>\n",
              "    </tr>\n",
              "    <tr>\n",
              "      <th>4</th>\n",
              "      <td>\\n\\n \\n\\n  \\n\\n \\n \\nObjective\\n\\n \\n\\n \\n\\n...</td>\n",
              "    </tr>\n",
              "    <tr>\n",
              "      <th>5</th>\n",
              "      <td>Rashmi Kumari Email: er.rash.rashmi@gmail.com ...</td>\n",
              "    </tr>\n",
              "  </tbody>\n",
              "</table>\n",
              "</div>"
            ],
            "text/plain": [
              "                                          ResumeText\n",
              "0   Anusha Viraj \\nSenior Automation Engineer \\n\\...\n",
              "1    \\n\\n \\n\\n \\n\\n \\n\\n \\n\\n \\n\\n \\n\\n \\n\\n \\n\\n...\n",
              "2   Shreya Anant Mahuli (MCA) \\nE-M  ail:shreyama...\n",
              "3   Yashik Narula\\nProgrammer Analyst\\nTo Achieve...\n",
              "4    \\n\\n \\n\\n  \\n\\n \\n \\nObjective\\n\\n \\n\\n \\n\\n...\n",
              "5  Rashmi Kumari Email: er.rash.rashmi@gmail.com ..."
            ]
          },
          "metadata": {
            "tags": []
          },
          "execution_count": 8
        }
      ]
    },
    {
      "cell_type": "markdown",
      "metadata": {
        "id": "yCXYWOTVwedR"
      },
      "source": [
        "## **Extracting Name fom Text**"
      ]
    },
    {
      "cell_type": "code",
      "metadata": {
        "id": "HEiYLGpJ_io_"
      },
      "source": [
        "# load pre-trained model\n",
        "nlp = spacy.load('en_core_web_sm')\n",
        "\n",
        "# initialize matcher with a vocab\n",
        "matcher = Matcher(nlp.vocab)\n",
        "\n",
        "def extract_name(resume_text):\n",
        "    nlp_text = nlp(resume_text)\n",
        "    \n",
        "    # First name and Last name are always Proper Nouns\n",
        "    pattern = [{'POS': 'PROPN'}, {'POS': 'PROPN'}]\n",
        "    \n",
        "    matcher.add('NAME',  [pattern])\n",
        "    \n",
        "    matches = matcher(nlp_text)\n",
        "    \n",
        "    for match_id, start, end in matches:\n",
        "        span = nlp_text[start:end]\n",
        "        return span.text"
      ],
      "execution_count": 9,
      "outputs": []
    },
    {
      "cell_type": "code",
      "metadata": {
        "id": "itf-xFJUgS11"
      },
      "source": [
        "nameList = []\n",
        "\n",
        "for resumeItem in resumeList:\n",
        "  fetchName = extract_name(resumeItem)\n",
        "  nameList.append(fetchName)"
      ],
      "execution_count": 10,
      "outputs": []
    },
    {
      "cell_type": "code",
      "metadata": {
        "colab": {
          "base_uri": "https://localhost:8080/",
          "height": 235
        },
        "id": "jiYwGxEWgp93",
        "outputId": "d77511af-0804-400f-ccf7-0f8316889d09"
      },
      "source": [
        "resume['Name'] = nameList\n",
        "resume"
      ],
      "execution_count": 11,
      "outputs": [
        {
          "output_type": "execute_result",
          "data": {
            "text/html": [
              "<div>\n",
              "<style scoped>\n",
              "    .dataframe tbody tr th:only-of-type {\n",
              "        vertical-align: middle;\n",
              "    }\n",
              "\n",
              "    .dataframe tbody tr th {\n",
              "        vertical-align: top;\n",
              "    }\n",
              "\n",
              "    .dataframe thead th {\n",
              "        text-align: right;\n",
              "    }\n",
              "</style>\n",
              "<table border=\"1\" class=\"dataframe\">\n",
              "  <thead>\n",
              "    <tr style=\"text-align: right;\">\n",
              "      <th></th>\n",
              "      <th>ResumeText</th>\n",
              "      <th>Name</th>\n",
              "    </tr>\n",
              "  </thead>\n",
              "  <tbody>\n",
              "    <tr>\n",
              "      <th>0</th>\n",
              "      <td>Anusha Viraj \\nSenior Automation Engineer \\n\\...</td>\n",
              "      <td>Anusha Viraj</td>\n",
              "    </tr>\n",
              "    <tr>\n",
              "      <th>1</th>\n",
              "      <td>\\n\\n \\n\\n \\n\\n \\n\\n \\n\\n \\n\\n \\n\\n \\n\\n \\n\\n...</td>\n",
              "      <td>Monicaa Kuppan</td>\n",
              "    </tr>\n",
              "    <tr>\n",
              "      <th>2</th>\n",
              "      <td>Shreya Anant Mahuli (MCA) \\nE-M  ail:shreyama...</td>\n",
              "      <td>Shreya Anant</td>\n",
              "    </tr>\n",
              "    <tr>\n",
              "      <th>3</th>\n",
              "      <td>Yashik Narula\\nProgrammer Analyst\\nTo Achieve...</td>\n",
              "      <td>Yashik Narula</td>\n",
              "    </tr>\n",
              "    <tr>\n",
              "      <th>4</th>\n",
              "      <td>\\n\\n \\n\\n  \\n\\n \\n \\nObjective\\n\\n \\n\\n \\n\\n...</td>\n",
              "      <td>IT Industry</td>\n",
              "    </tr>\n",
              "    <tr>\n",
              "      <th>5</th>\n",
              "      <td>Rashmi Kumari Email: er.rash.rashmi@gmail.com ...</td>\n",
              "      <td>Rashmi Kumari</td>\n",
              "    </tr>\n",
              "  </tbody>\n",
              "</table>\n",
              "</div>"
            ],
            "text/plain": [
              "                                          ResumeText            Name\n",
              "0   Anusha Viraj \\nSenior Automation Engineer \\n\\...    Anusha Viraj\n",
              "1    \\n\\n \\n\\n \\n\\n \\n\\n \\n\\n \\n\\n \\n\\n \\n\\n \\n\\n...  Monicaa Kuppan\n",
              "2   Shreya Anant Mahuli (MCA) \\nE-M  ail:shreyama...    Shreya Anant\n",
              "3   Yashik Narula\\nProgrammer Analyst\\nTo Achieve...   Yashik Narula\n",
              "4    \\n\\n \\n\\n  \\n\\n \\n \\nObjective\\n\\n \\n\\n \\n\\n...     IT Industry\n",
              "5  Rashmi Kumari Email: er.rash.rashmi@gmail.com ...   Rashmi Kumari"
            ]
          },
          "metadata": {
            "tags": []
          },
          "execution_count": 11
        }
      ]
    },
    {
      "cell_type": "markdown",
      "metadata": {
        "id": "Q7H8ZcUSWZUU"
      },
      "source": [
        "## **Extact Mobile Numer**"
      ]
    },
    {
      "cell_type": "markdown",
      "metadata": {
        "id": "_wNFmMlvzT9y"
      },
      "source": [
        "**Handled Mobile Format:**\n",
        "\n",
        "```\n",
        "(+91) 1234567890\n",
        "(954)3601488\n",
        "(123) 456 7899\n",
        "(123).456.7899\n",
        "(123)-456-7899\n",
        "+911234567890\n",
        "+91 123 456 7890\n",
        "+91 1234567890\n",
        "09543601488\n",
        "+91-1234567890\n",
        "0-1234567890\n",
        "0 1234567890\n",
        "++91-9543601488\n",
        "123-456-7899\n",
        "123 456 7899\n",
        "1234567899\n",
        "0511-4405222\n",
        "021-87888822\n",
        "+8613012345678\n",
        "03595-259506\n",
        "03592 245902\n",
        "03598245785\n",
        "```\n",
        "\n"
      ]
    },
    {
      "cell_type": "code",
      "metadata": {
        "id": "_6Wi5cO8ZnoG"
      },
      "source": [
        "def extract_mobile_number(text):\n",
        "    phone = re.findall(re.compile(r'[\\(]?\\+?\\d[\\)]?[\\d -\\.]{8,13}\\d'), text)\n",
        "    return phone"
      ],
      "execution_count": 12,
      "outputs": []
    },
    {
      "cell_type": "code",
      "metadata": {
        "id": "DuxjiZ9qha4v"
      },
      "source": [
        "phoneNumber = []\n",
        "for resumeItem in resumeList:\n",
        "  phoneNo = extract_mobile_number(resumeItem)\n",
        "  phoneNumber.append(phoneNo[0])"
      ],
      "execution_count": 13,
      "outputs": []
    },
    {
      "cell_type": "code",
      "metadata": {
        "colab": {
          "base_uri": "https://localhost:8080/",
          "height": 0
        },
        "id": "JkB1Lg90hqAB",
        "outputId": "d80548a9-fde0-45a4-aa45-59e0d105f368"
      },
      "source": [
        "resume['PhoneNo'] = phoneNumber\n",
        "resume"
      ],
      "execution_count": 14,
      "outputs": [
        {
          "output_type": "execute_result",
          "data": {
            "text/html": [
              "<div>\n",
              "<style scoped>\n",
              "    .dataframe tbody tr th:only-of-type {\n",
              "        vertical-align: middle;\n",
              "    }\n",
              "\n",
              "    .dataframe tbody tr th {\n",
              "        vertical-align: top;\n",
              "    }\n",
              "\n",
              "    .dataframe thead th {\n",
              "        text-align: right;\n",
              "    }\n",
              "</style>\n",
              "<table border=\"1\" class=\"dataframe\">\n",
              "  <thead>\n",
              "    <tr style=\"text-align: right;\">\n",
              "      <th></th>\n",
              "      <th>ResumeText</th>\n",
              "      <th>Name</th>\n",
              "      <th>PhoneNo</th>\n",
              "    </tr>\n",
              "  </thead>\n",
              "  <tbody>\n",
              "    <tr>\n",
              "      <th>0</th>\n",
              "      <td>Anusha Viraj \\nSenior Automation Engineer \\n\\...</td>\n",
              "      <td>Anusha Viraj</td>\n",
              "      <td>9543601488</td>\n",
              "    </tr>\n",
              "    <tr>\n",
              "      <th>1</th>\n",
              "      <td>\\n\\n \\n\\n \\n\\n \\n\\n \\n\\n \\n\\n \\n\\n \\n\\n \\n\\n...</td>\n",
              "      <td>Monicaa Kuppan</td>\n",
              "      <td>+91-9880650741</td>\n",
              "    </tr>\n",
              "    <tr>\n",
              "      <th>2</th>\n",
              "      <td>Shreya Anant Mahuli (MCA) \\nE-M  ail:shreyama...</td>\n",
              "      <td>Shreya Anant</td>\n",
              "      <td>9986309408</td>\n",
              "    </tr>\n",
              "    <tr>\n",
              "      <th>3</th>\n",
              "      <td>Yashik Narula\\nProgrammer Analyst\\nTo Achieve...</td>\n",
              "      <td>Yashik Narula</td>\n",
              "      <td>9962117598</td>\n",
              "    </tr>\n",
              "    <tr>\n",
              "      <th>4</th>\n",
              "      <td>\\n\\n \\n\\n  \\n\\n \\n \\nObjective\\n\\n \\n\\n \\n\\n...</td>\n",
              "      <td>IT Industry</td>\n",
              "      <td>+91-7799248866</td>\n",
              "    </tr>\n",
              "    <tr>\n",
              "      <th>5</th>\n",
              "      <td>Rashmi Kumari Email: er.rash.rashmi@gmail.com ...</td>\n",
              "      <td>Rashmi Kumari</td>\n",
              "      <td>+91 8904664464</td>\n",
              "    </tr>\n",
              "  </tbody>\n",
              "</table>\n",
              "</div>"
            ],
            "text/plain": [
              "                                          ResumeText  ...         PhoneNo\n",
              "0   Anusha Viraj \\nSenior Automation Engineer \\n\\...  ...      9543601488\n",
              "1    \\n\\n \\n\\n \\n\\n \\n\\n \\n\\n \\n\\n \\n\\n \\n\\n \\n\\n...  ...  +91-9880650741\n",
              "2   Shreya Anant Mahuli (MCA) \\nE-M  ail:shreyama...  ...      9986309408\n",
              "3   Yashik Narula\\nProgrammer Analyst\\nTo Achieve...  ...      9962117598\n",
              "4    \\n\\n \\n\\n  \\n\\n \\n \\nObjective\\n\\n \\n\\n \\n\\n...  ...  +91-7799248866\n",
              "5  Rashmi Kumari Email: er.rash.rashmi@gmail.com ...  ...  +91 8904664464\n",
              "\n",
              "[6 rows x 3 columns]"
            ]
          },
          "metadata": {
            "tags": []
          },
          "execution_count": 14
        }
      ]
    },
    {
      "cell_type": "markdown",
      "metadata": {
        "id": "EboToFRjM1LU"
      },
      "source": [
        "## **Extracting Years of Experience**"
      ]
    },
    {
      "cell_type": "markdown",
      "metadata": {
        "id": "e0DSE7pry2gC"
      },
      "source": [
        "### **Using Regular Expression**"
      ]
    },
    {
      "cell_type": "markdown",
      "metadata": {
        "id": "c5bnVZQs0ByC"
      },
      "source": [
        "**Experience Years Handled**\n",
        "\n",
        "```\n",
        "6.6 years\n",
        "6+ years\n",
        "3+\n",
        "8+ IT\n",
        "5 years 8 months\n",
        "7 year\n",
        "```\n",
        "\n"
      ]
    },
    {
      "cell_type": "code",
      "metadata": {
        "id": "4E8A6-E00BPz"
      },
      "source": [
        "# def extract_years_of_experience(text):\n",
        "#   nlp_text = nlp(text)\n",
        "#   experienceList = []\n",
        "#   #experience = re.findall(re.compile(r'^([\\d]{1})[ \\.\\+]+[\\d]?[ ]?(years?)?([ ])*([\\d]{1})*([ ])*(months?)?'), nlp_text)\n",
        "#   experience = re.match(re.compile(r'^([\\d]{1})[ \\.\\+]+[\\d]?[ ]?(years?)?([ ])*([\\d]{1})*([ ])*(months?)?'), nlp_text)\n",
        "#   experienceList.append(experience)\n",
        "#   return experienceList"
      ],
      "execution_count": 15,
      "outputs": []
    },
    {
      "cell_type": "code",
      "metadata": {
        "id": "yXZUvqA-mtkv"
      },
      "source": [
        "# for resumeItem in resumeList:\n",
        "#   exp = extract_years_of_experience(resumeItem)\n",
        "#   print(exp)\n",
        "#   experiences.append(exp)\n",
        "\n",
        "# #experiences"
      ],
      "execution_count": 16,
      "outputs": []
    },
    {
      "cell_type": "code",
      "metadata": {
        "id": "IGZ1b3s3XO_d"
      },
      "source": [
        "# import nltk\n",
        "# nltk.download('punkt')"
      ],
      "execution_count": 17,
      "outputs": []
    },
    {
      "cell_type": "code",
      "metadata": {
        "id": "iY2TQQWoWp07"
      },
      "source": [
        "# from nltk import word_tokenize\n",
        "# from nltk.util import ngrams\n",
        "# def get_ngrams(text, n):\n",
        "#     n_grams = ngrams(word_tokenize(text), n)\n",
        "#     return [ ' '.join(grams) for grams in n_grams]\n",
        "\n",
        "# trigrams = get_ngrams(pdfText, 3 )\n",
        "# trigrams"
      ],
      "execution_count": 18,
      "outputs": []
    },
    {
      "cell_type": "code",
      "metadata": {
        "id": "5qRZ1fRdoFNj"
      },
      "source": [
        "# for item in trigrams:\n",
        "#   experience = re.findall(re.compile(r'^([\\d]{1})[ \\.\\+]+[\\d]?[ ]?(years?)?([ ])*([\\d]{1})*([ ])*(months?)?'), item)  \n",
        "#   exp = ''\n",
        "#   for value in experience:\n",
        "#     exp = ' '.join(exp)\n",
        "#   print(exp)"
      ],
      "execution_count": 19,
      "outputs": []
    },
    {
      "cell_type": "markdown",
      "metadata": {
        "id": "AApnCC4cy_Hy"
      },
      "source": [
        "### **Using Spacy Date Tag**"
      ]
    },
    {
      "cell_type": "code",
      "metadata": {
        "id": "IVAwyZZ4PW3j"
      },
      "source": [
        "experiences = []\n",
        "def extract_experience(text):\n",
        "  experience = []\n",
        "  exp = nlp(text)\n",
        "  for ent in exp.ents:\n",
        "    if ent.label_ == \"DATE\":\n",
        "      experience.append(ent.text)\n",
        "    else:\n",
        "      continue\n",
        "  return experience"
      ],
      "execution_count": 20,
      "outputs": []
    },
    {
      "cell_type": "code",
      "metadata": {
        "colab": {
          "base_uri": "https://localhost:8080/"
        },
        "id": "G0N07FYWltDL",
        "outputId": "761ae171-a712-4079-ad0f-37976105e5ef"
      },
      "source": [
        "for resumeItem in resumeList:\n",
        "  exp = extract_experience(resumeItem)\n",
        "  experiences.append(exp[0])\n",
        "\n",
        "experiences"
      ],
      "execution_count": 21,
      "outputs": [
        {
          "output_type": "execute_result",
          "data": {
            "text/plain": [
              "['8+ years',\n",
              " '\\u200baround 8+ years',\n",
              " 'around 5+ years',\n",
              " '12/2018',\n",
              " '5 years',\n",
              " 'almost 5 years']"
            ]
          },
          "metadata": {
            "tags": []
          },
          "execution_count": 21
        }
      ]
    },
    {
      "cell_type": "code",
      "metadata": {
        "colab": {
          "base_uri": "https://localhost:8080/",
          "height": 235
        },
        "id": "aviR8gItrZ_m",
        "outputId": "2f04cf67-7e32-43e7-ed30-9c63479f3a4e"
      },
      "source": [
        "resume['Experience'] = experiences\n",
        "resume"
      ],
      "execution_count": 22,
      "outputs": [
        {
          "output_type": "execute_result",
          "data": {
            "text/html": [
              "<div>\n",
              "<style scoped>\n",
              "    .dataframe tbody tr th:only-of-type {\n",
              "        vertical-align: middle;\n",
              "    }\n",
              "\n",
              "    .dataframe tbody tr th {\n",
              "        vertical-align: top;\n",
              "    }\n",
              "\n",
              "    .dataframe thead th {\n",
              "        text-align: right;\n",
              "    }\n",
              "</style>\n",
              "<table border=\"1\" class=\"dataframe\">\n",
              "  <thead>\n",
              "    <tr style=\"text-align: right;\">\n",
              "      <th></th>\n",
              "      <th>ResumeText</th>\n",
              "      <th>Name</th>\n",
              "      <th>PhoneNo</th>\n",
              "      <th>Experience</th>\n",
              "    </tr>\n",
              "  </thead>\n",
              "  <tbody>\n",
              "    <tr>\n",
              "      <th>0</th>\n",
              "      <td>Anusha Viraj \\nSenior Automation Engineer \\n\\...</td>\n",
              "      <td>Anusha Viraj</td>\n",
              "      <td>9543601488</td>\n",
              "      <td>8+ years</td>\n",
              "    </tr>\n",
              "    <tr>\n",
              "      <th>1</th>\n",
              "      <td>\\n\\n \\n\\n \\n\\n \\n\\n \\n\\n \\n\\n \\n\\n \\n\\n \\n\\n...</td>\n",
              "      <td>Monicaa Kuppan</td>\n",
              "      <td>+91-9880650741</td>\n",
              "      <td>​around 8+ years</td>\n",
              "    </tr>\n",
              "    <tr>\n",
              "      <th>2</th>\n",
              "      <td>Shreya Anant Mahuli (MCA) \\nE-M  ail:shreyama...</td>\n",
              "      <td>Shreya Anant</td>\n",
              "      <td>9986309408</td>\n",
              "      <td>around 5+ years</td>\n",
              "    </tr>\n",
              "    <tr>\n",
              "      <th>3</th>\n",
              "      <td>Yashik Narula\\nProgrammer Analyst\\nTo Achieve...</td>\n",
              "      <td>Yashik Narula</td>\n",
              "      <td>9962117598</td>\n",
              "      <td>12/2018</td>\n",
              "    </tr>\n",
              "    <tr>\n",
              "      <th>4</th>\n",
              "      <td>\\n\\n \\n\\n  \\n\\n \\n \\nObjective\\n\\n \\n\\n \\n\\n...</td>\n",
              "      <td>IT Industry</td>\n",
              "      <td>+91-7799248866</td>\n",
              "      <td>5 years</td>\n",
              "    </tr>\n",
              "    <tr>\n",
              "      <th>5</th>\n",
              "      <td>Rashmi Kumari Email: er.rash.rashmi@gmail.com ...</td>\n",
              "      <td>Rashmi Kumari</td>\n",
              "      <td>+91 8904664464</td>\n",
              "      <td>almost 5 years</td>\n",
              "    </tr>\n",
              "  </tbody>\n",
              "</table>\n",
              "</div>"
            ],
            "text/plain": [
              "                                          ResumeText  ...        Experience\n",
              "0   Anusha Viraj \\nSenior Automation Engineer \\n\\...  ...          8+ years\n",
              "1    \\n\\n \\n\\n \\n\\n \\n\\n \\n\\n \\n\\n \\n\\n \\n\\n \\n\\n...  ...  ​around 8+ years\n",
              "2   Shreya Anant Mahuli (MCA) \\nE-M  ail:shreyama...  ...   around 5+ years\n",
              "3   Yashik Narula\\nProgrammer Analyst\\nTo Achieve...  ...           12/2018\n",
              "4    \\n\\n \\n\\n  \\n\\n \\n \\nObjective\\n\\n \\n\\n \\n\\n...  ...           5 years\n",
              "5  Rashmi Kumari Email: er.rash.rashmi@gmail.com ...  ...    almost 5 years\n",
              "\n",
              "[6 rows x 4 columns]"
            ]
          },
          "metadata": {
            "tags": []
          },
          "execution_count": 22
        }
      ]
    },
    {
      "cell_type": "markdown",
      "metadata": {
        "id": "IOMlHYo4WUPH"
      },
      "source": [
        "## **Extracting Skills**"
      ]
    },
    {
      "cell_type": "markdown",
      "metadata": {
        "id": "3HEzx15_-sta"
      },
      "source": [
        "<p style=\"background-color: #FFEC8B;\"><b> NOTE: Commented out single words as it was giving issues. Included on trigrams. The secondary skills have blank value which needs to be handled later</b></p>"
      ]
    },
    {
      "cell_type": "code",
      "metadata": {
        "id": "1I8bRUQLFJMF",
        "colab": {
          "base_uri": "https://localhost:8080/"
        },
        "outputId": "d7f38038-48e2-4d33-b7fc-ce4f9ddc6f26"
      },
      "source": [
        "skills = pd.read_excel(\"/content/drive/My Drive/Kaggle/ResumeRanker/SkillsRequired.xlsx\")\n",
        "\n",
        "#Check for Null values\n",
        "for column in skills.columns:\n",
        "  if (skills[column].isnull().sum() > 0):\n",
        "    print(\"Column {} has {} null values.\".format(column,skills[column].isnull().sum()), \"\\n\")\n",
        "    skills[column] = skills[column].fillna('blank')\n",
        "\n",
        "# Convert Primary Skills to list and lower case\n",
        "primarySkills = skills['PrimarySkills'].values.tolist()\n",
        "for i in range(len(primarySkills)):\n",
        "  primarySkills[i] = primarySkills[i].lower()\n",
        "   \n",
        "# Convert Secondary skills to list and lower case\n",
        "secondarySkills = skills['GoodToHave'].values.tolist()\n",
        "for i in range(len(secondarySkills)):\n",
        "  secondarySkills[i] = secondarySkills[i].lower()\n",
        "    \n",
        "\n",
        "def extract_skills(resume_text):\n",
        "    nlp_text = nlp(resume_text)\n",
        "    chunks = nlp_text.noun_chunks\n",
        "\n",
        "    # removing stop words and implementing word tokenization\n",
        "    tokens = [token.text for token in nlp_text if not token.is_stop]\n",
        "\n",
        "    primarySkillSet = []\n",
        "    secondarySkillSet = []\n",
        "  \n",
        "    # check for bi-grams and tri-grams (example: machine learning)\n",
        "    for token in chunks:\n",
        "      token = token.text.lower().strip()\n",
        "      if token in primarySkills:\n",
        "        primarySkillSet.append(token)\n",
        "      elif token in secondarySkills:\n",
        "        secondarySkillSet.append(token)\n",
        "      else:\n",
        "        continue\n",
        "          \n",
        "    return primarySkillSet, secondarySkillSet"
      ],
      "execution_count": 23,
      "outputs": [
        {
          "output_type": "stream",
          "text": [
            "Column GoodToHave has 11 null values. \n",
            "\n"
          ],
          "name": "stdout"
        }
      ]
    },
    {
      "cell_type": "code",
      "metadata": {
        "colab": {
          "base_uri": "https://localhost:8080/"
        },
        "id": "ZZMzd0ffh7-T",
        "outputId": "bffa80b2-55c5-4a20-d20b-e31d654a2c22"
      },
      "source": [
        "candidatePrimarySkill = []\n",
        "candidateSecondarySkill = []\n",
        "\n",
        "for resumeItem in resumeList:\n",
        "  sillExtracted = extract_skills(resumeItem)\n",
        "  candidatePrimarySkill.append(sillExtracted[0])\n",
        "  candidateSecondarySkill.append(sillExtracted[1])\n",
        "\n",
        "print(\"Candidate Primary Skill: {}\".format(candidatePrimarySkill))\n",
        "print(\"Candidate Secondary SKill: {}\".format(candidateSecondarySkill)) "
      ],
      "execution_count": 24,
      "outputs": [
        {
          "output_type": "stream",
          "text": [
            "Candidate Primary Skill: [['automation', 'automation', 'automation', 'selenium', 'cucumber', 'automation', 'testng', 'junit', 'maven', 'automation testing', 'jira'], ['jenkins'], ['java', 'soap', 'java', 'java', 'java', 'soap'], ['automation', 'selenium', 'selenium', 'testng', 'maven', 'jenkins', 'jira', 'selenium', 'automation testing', 'selenium', 'automation testing', 'selenium', 'jenkins'], ['automation testing', 'cucumber', 'selenium', 'automation testing', 'testng', 'selenium', 'testng', 'jira', 'jira', 'selenium', 'jira', 'java', 'jira'], ['java', 'maven', 'api', 'java']]\n",
            "Candidate Secondary SKill: [['python', 'python'], ['spring boot framework'], [], [], [], []]\n"
          ],
          "name": "stdout"
        }
      ]
    },
    {
      "cell_type": "code",
      "metadata": {
        "colab": {
          "base_uri": "https://localhost:8080/",
          "height": 235
        },
        "id": "UZLymX7TkBON",
        "outputId": "df312f24-bf83-4ec3-d4e4-0b3a4f2ecd11"
      },
      "source": [
        "resume['PrimarySkills'] = candidatePrimarySkill\n",
        "resume"
      ],
      "execution_count": 25,
      "outputs": [
        {
          "output_type": "execute_result",
          "data": {
            "text/html": [
              "<div>\n",
              "<style scoped>\n",
              "    .dataframe tbody tr th:only-of-type {\n",
              "        vertical-align: middle;\n",
              "    }\n",
              "\n",
              "    .dataframe tbody tr th {\n",
              "        vertical-align: top;\n",
              "    }\n",
              "\n",
              "    .dataframe thead th {\n",
              "        text-align: right;\n",
              "    }\n",
              "</style>\n",
              "<table border=\"1\" class=\"dataframe\">\n",
              "  <thead>\n",
              "    <tr style=\"text-align: right;\">\n",
              "      <th></th>\n",
              "      <th>ResumeText</th>\n",
              "      <th>Name</th>\n",
              "      <th>PhoneNo</th>\n",
              "      <th>Experience</th>\n",
              "      <th>PrimarySkills</th>\n",
              "    </tr>\n",
              "  </thead>\n",
              "  <tbody>\n",
              "    <tr>\n",
              "      <th>0</th>\n",
              "      <td>Anusha Viraj \\nSenior Automation Engineer \\n\\...</td>\n",
              "      <td>Anusha Viraj</td>\n",
              "      <td>9543601488</td>\n",
              "      <td>8+ years</td>\n",
              "      <td>[automation, automation, automation, selenium,...</td>\n",
              "    </tr>\n",
              "    <tr>\n",
              "      <th>1</th>\n",
              "      <td>\\n\\n \\n\\n \\n\\n \\n\\n \\n\\n \\n\\n \\n\\n \\n\\n \\n\\n...</td>\n",
              "      <td>Monicaa Kuppan</td>\n",
              "      <td>+91-9880650741</td>\n",
              "      <td>​around 8+ years</td>\n",
              "      <td>[jenkins]</td>\n",
              "    </tr>\n",
              "    <tr>\n",
              "      <th>2</th>\n",
              "      <td>Shreya Anant Mahuli (MCA) \\nE-M  ail:shreyama...</td>\n",
              "      <td>Shreya Anant</td>\n",
              "      <td>9986309408</td>\n",
              "      <td>around 5+ years</td>\n",
              "      <td>[java, soap, java, java, java, soap]</td>\n",
              "    </tr>\n",
              "    <tr>\n",
              "      <th>3</th>\n",
              "      <td>Yashik Narula\\nProgrammer Analyst\\nTo Achieve...</td>\n",
              "      <td>Yashik Narula</td>\n",
              "      <td>9962117598</td>\n",
              "      <td>12/2018</td>\n",
              "      <td>[automation, selenium, selenium, testng, maven...</td>\n",
              "    </tr>\n",
              "    <tr>\n",
              "      <th>4</th>\n",
              "      <td>\\n\\n \\n\\n  \\n\\n \\n \\nObjective\\n\\n \\n\\n \\n\\n...</td>\n",
              "      <td>IT Industry</td>\n",
              "      <td>+91-7799248866</td>\n",
              "      <td>5 years</td>\n",
              "      <td>[automation testing, cucumber, selenium, autom...</td>\n",
              "    </tr>\n",
              "    <tr>\n",
              "      <th>5</th>\n",
              "      <td>Rashmi Kumari Email: er.rash.rashmi@gmail.com ...</td>\n",
              "      <td>Rashmi Kumari</td>\n",
              "      <td>+91 8904664464</td>\n",
              "      <td>almost 5 years</td>\n",
              "      <td>[java, maven, api, java]</td>\n",
              "    </tr>\n",
              "  </tbody>\n",
              "</table>\n",
              "</div>"
            ],
            "text/plain": [
              "                                          ResumeText  ...                                      PrimarySkills\n",
              "0   Anusha Viraj \\nSenior Automation Engineer \\n\\...  ...  [automation, automation, automation, selenium,...\n",
              "1    \\n\\n \\n\\n \\n\\n \\n\\n \\n\\n \\n\\n \\n\\n \\n\\n \\n\\n...  ...                                          [jenkins]\n",
              "2   Shreya Anant Mahuli (MCA) \\nE-M  ail:shreyama...  ...               [java, soap, java, java, java, soap]\n",
              "3   Yashik Narula\\nProgrammer Analyst\\nTo Achieve...  ...  [automation, selenium, selenium, testng, maven...\n",
              "4    \\n\\n \\n\\n  \\n\\n \\n \\nObjective\\n\\n \\n\\n \\n\\n...  ...  [automation testing, cucumber, selenium, autom...\n",
              "5  Rashmi Kumari Email: er.rash.rashmi@gmail.com ...  ...                           [java, maven, api, java]\n",
              "\n",
              "[6 rows x 5 columns]"
            ]
          },
          "metadata": {
            "tags": []
          },
          "execution_count": 25
        }
      ]
    },
    {
      "cell_type": "markdown",
      "metadata": {
        "id": "TC-j1a37NA0J"
      },
      "source": [
        "## **Fetching Repeated Primary Skill for each candaidate**"
      ]
    },
    {
      "cell_type": "code",
      "metadata": {
        "id": "mmP-SppuNAFi"
      },
      "source": [
        "candidateRepeatedSkill = []\n",
        "\n",
        "for candidate in candidatePrimarySkill:\n",
        "  skillDictionary = {i:candidate.count(i) for i in candidate}\n",
        "  primarySkillDictionary = sorted(skillDictionary.items(),key=operator.itemgetter(1),reverse=True)\n",
        "  candidateRepeatedSkill.append(primarySkillDictionary)"
      ],
      "execution_count": 26,
      "outputs": []
    },
    {
      "cell_type": "code",
      "metadata": {
        "id": "n_q_r1pY2XBx",
        "colab": {
          "base_uri": "https://localhost:8080/"
        },
        "outputId": "81887950-d993-4bad-c1c3-fb59b229308d"
      },
      "source": [
        "candidateRepeatedSkill"
      ],
      "execution_count": 27,
      "outputs": [
        {
          "output_type": "execute_result",
          "data": {
            "text/plain": [
              "[[('automation', 4),\n",
              "  ('selenium', 1),\n",
              "  ('cucumber', 1),\n",
              "  ('testng', 1),\n",
              "  ('junit', 1),\n",
              "  ('maven', 1),\n",
              "  ('automation testing', 1),\n",
              "  ('jira', 1)],\n",
              " [('jenkins', 1)],\n",
              " [('java', 4), ('soap', 2)],\n",
              " [('selenium', 5),\n",
              "  ('jenkins', 2),\n",
              "  ('automation testing', 2),\n",
              "  ('automation', 1),\n",
              "  ('testng', 1),\n",
              "  ('maven', 1),\n",
              "  ('jira', 1)],\n",
              " [('jira', 4),\n",
              "  ('selenium', 3),\n",
              "  ('automation testing', 2),\n",
              "  ('testng', 2),\n",
              "  ('cucumber', 1),\n",
              "  ('java', 1)],\n",
              " [('java', 2), ('maven', 1), ('api', 1)]]"
            ]
          },
          "metadata": {
            "tags": []
          },
          "execution_count": 27
        }
      ]
    },
    {
      "cell_type": "code",
      "metadata": {
        "colab": {
          "base_uri": "https://localhost:8080/",
          "height": 1000
        },
        "id": "a9DSGpZ-2sI7",
        "outputId": "4f431c25-e76c-4b49-b229-5a59c1db809f"
      },
      "source": [
        "for candidate, i, name in zip(candidateRepeatedSkill, range(len(nameList)), nameList):\n",
        "  top = candidate\n",
        "  labels, yAxisValue = zip(*top)\n",
        "  xAxisValue = np.arange(len(labels)) \n",
        "  plt.bar(xAxisValue, yAxisValue, width = 0.5, align='center', color = 'royalblue')\n",
        "  plt.grid(color='#95a5a6', linestyle='--', linewidth=2, axis='y', alpha=0.7)\n",
        "  plt.xticks(xAxisValue, labels, rotation = 90)\n",
        "  plt.show()"
      ],
      "execution_count": 28,
      "outputs": [
        {
          "output_type": "display_data",
          "data": {
            "image/png": "[encoded data removed]",
            "text/plain": [
              "<Figure size 432x288 with 1 Axes>"
            ]
          },
          "metadata": {
            "tags": [],
            "needs_background": "light"
          }
        },
        {
          "output_type": "display_data",
          "data": {
            "image/png": "[encoded data removed]",
            "text/plain": [
              "<Figure size 432x288 with 1 Axes>"
            ]
          },
          "metadata": {
            "tags": [],
            "needs_background": "light"
          }
        },
        {
          "output_type": "display_data",
          "data": {
            "image/png": "[encoded data removed]",
            "text/plain": [
              "<Figure size 432x288 with 1 Axes>"
            ]
          },
          "metadata": {
            "tags": [],
            "needs_background": "light"
          }
        },
        {
          "output_type": "display_data",
          "data": {
            "image/png": "[encoded data removed]",
            "text/plain": [
              "<Figure size 432x288 with 1 Axes>"
            ]
          },
          "metadata": {
            "tags": [],
            "needs_background": "light"
          }
        },
        {
          "output_type": "display_data",
          "data": {
            "image/png": "[encoded data removed]",
            "text/plain": [
              "<Figure size 432x288 with 1 Axes>"
            ]
          },
          "metadata": {
            "tags": [],
            "needs_background": "light"
          }
        },
        {
          "output_type": "display_data",
          "data": {
            "image/png": "[encoded data removed]",
            "text/plain": [
              "<Figure size 432x288 with 1 Axes>"
            ]
          },
          "metadata": {
            "tags": [],
            "needs_background": "light"
          }
        }
      ]
    },
    {
      "cell_type": "markdown",
      "metadata": {
        "id": "bk3DuBoxAacS"
      },
      "source": [
        "## **Fetching the no of Primary Skills that Matched the Required Skills**"
      ]
    },
    {
      "cell_type": "code",
      "metadata": {
        "id": "wvMI4kEbAmOl"
      },
      "source": [
        "# candidateUniqueSkill = []\n",
        "\n",
        "# for candidateSkill in candidatePrimarySkill:\n",
        "#   print(candidateSkill)\n",
        "#   uniqueSkillSet = set()\n",
        "#   for values in candidateSkill:\n",
        "#     print(values)\n",
        "#     uniqueSkillSet.add(values)\n",
        "#   candidateUniqueSkill.append(uniqueSkillSet)\n",
        "\n",
        "# candidateUniqueSkill"
      ],
      "execution_count": 29,
      "outputs": []
    },
    {
      "cell_type": "code",
      "metadata": {
        "id": "ui8oE_qfD9z9"
      },
      "source": [
        "candidateUniqueSkill = []\n",
        "\n",
        "for candidateSkill in candidateRepeatedSkill:\n",
        "  skill = []\n",
        "  for skillName in candidateSkill:\n",
        "    skill.append(skillName[0])\n",
        "  candidateUniqueSkill.append(skill)"
      ],
      "execution_count": 30,
      "outputs": []
    },
    {
      "cell_type": "code",
      "metadata": {
        "id": "_4uGRnjrO2iS"
      },
      "source": [
        "skillMatched = []\n",
        "\n",
        "for matchedSkill in candidateUniqueSkill:  \n",
        "  percentage = round((len(matchedSkill)/len(primarySkills))*100)\n",
        "  skillMatched.append(percentage)"
      ],
      "execution_count": 31,
      "outputs": []
    },
    {
      "cell_type": "code",
      "metadata": {
        "colab": {
          "base_uri": "https://localhost:8080/",
          "height": 235
        },
        "id": "QY4GCD03Ixgy",
        "outputId": "c0a7f55a-4e0f-40cf-c372-932f1dc8bfe6"
      },
      "source": [
        "resume['%PrimarySkillMatch'] = skillMatched\n",
        "resume"
      ],
      "execution_count": 32,
      "outputs": [
        {
          "output_type": "execute_result",
          "data": {
            "text/html": [
              "<div>\n",
              "<style scoped>\n",
              "    .dataframe tbody tr th:only-of-type {\n",
              "        vertical-align: middle;\n",
              "    }\n",
              "\n",
              "    .dataframe tbody tr th {\n",
              "        vertical-align: top;\n",
              "    }\n",
              "\n",
              "    .dataframe thead th {\n",
              "        text-align: right;\n",
              "    }\n",
              "</style>\n",
              "<table border=\"1\" class=\"dataframe\">\n",
              "  <thead>\n",
              "    <tr style=\"text-align: right;\">\n",
              "      <th></th>\n",
              "      <th>ResumeText</th>\n",
              "      <th>Name</th>\n",
              "      <th>PhoneNo</th>\n",
              "      <th>Experience</th>\n",
              "      <th>PrimarySkills</th>\n",
              "      <th>%PrimarySkillMatch</th>\n",
              "    </tr>\n",
              "  </thead>\n",
              "  <tbody>\n",
              "    <tr>\n",
              "      <th>0</th>\n",
              "      <td>Anusha Viraj \\nSenior Automation Engineer \\n\\...</td>\n",
              "      <td>Anusha Viraj</td>\n",
              "      <td>9543601488</td>\n",
              "      <td>8+ years</td>\n",
              "      <td>[automation, automation, automation, selenium,...</td>\n",
              "      <td>47</td>\n",
              "    </tr>\n",
              "    <tr>\n",
              "      <th>1</th>\n",
              "      <td>\\n\\n \\n\\n \\n\\n \\n\\n \\n\\n \\n\\n \\n\\n \\n\\n \\n\\n...</td>\n",
              "      <td>Monicaa Kuppan</td>\n",
              "      <td>+91-9880650741</td>\n",
              "      <td>​around 8+ years</td>\n",
              "      <td>[jenkins]</td>\n",
              "      <td>6</td>\n",
              "    </tr>\n",
              "    <tr>\n",
              "      <th>2</th>\n",
              "      <td>Shreya Anant Mahuli (MCA) \\nE-M  ail:shreyama...</td>\n",
              "      <td>Shreya Anant</td>\n",
              "      <td>9986309408</td>\n",
              "      <td>around 5+ years</td>\n",
              "      <td>[java, soap, java, java, java, soap]</td>\n",
              "      <td>12</td>\n",
              "    </tr>\n",
              "    <tr>\n",
              "      <th>3</th>\n",
              "      <td>Yashik Narula\\nProgrammer Analyst\\nTo Achieve...</td>\n",
              "      <td>Yashik Narula</td>\n",
              "      <td>9962117598</td>\n",
              "      <td>12/2018</td>\n",
              "      <td>[automation, selenium, selenium, testng, maven...</td>\n",
              "      <td>41</td>\n",
              "    </tr>\n",
              "    <tr>\n",
              "      <th>4</th>\n",
              "      <td>\\n\\n \\n\\n  \\n\\n \\n \\nObjective\\n\\n \\n\\n \\n\\n...</td>\n",
              "      <td>IT Industry</td>\n",
              "      <td>+91-7799248866</td>\n",
              "      <td>5 years</td>\n",
              "      <td>[automation testing, cucumber, selenium, autom...</td>\n",
              "      <td>35</td>\n",
              "    </tr>\n",
              "    <tr>\n",
              "      <th>5</th>\n",
              "      <td>Rashmi Kumari Email: er.rash.rashmi@gmail.com ...</td>\n",
              "      <td>Rashmi Kumari</td>\n",
              "      <td>+91 8904664464</td>\n",
              "      <td>almost 5 years</td>\n",
              "      <td>[java, maven, api, java]</td>\n",
              "      <td>18</td>\n",
              "    </tr>\n",
              "  </tbody>\n",
              "</table>\n",
              "</div>"
            ],
            "text/plain": [
              "                                          ResumeText  ... %PrimarySkillMatch\n",
              "0   Anusha Viraj \\nSenior Automation Engineer \\n\\...  ...                 47\n",
              "1    \\n\\n \\n\\n \\n\\n \\n\\n \\n\\n \\n\\n \\n\\n \\n\\n \\n\\n...  ...                  6\n",
              "2   Shreya Anant Mahuli (MCA) \\nE-M  ail:shreyama...  ...                 12\n",
              "3   Yashik Narula\\nProgrammer Analyst\\nTo Achieve...  ...                 41\n",
              "4    \\n\\n \\n\\n  \\n\\n \\n \\nObjective\\n\\n \\n\\n \\n\\n...  ...                 35\n",
              "5  Rashmi Kumari Email: er.rash.rashmi@gmail.com ...  ...                 18\n",
              "\n",
              "[6 rows x 6 columns]"
            ]
          },
          "metadata": {
            "tags": []
          },
          "execution_count": 32
        }
      ]
    },
    {
      "cell_type": "markdown",
      "metadata": {
        "id": "kWLP_6OJlpHA"
      },
      "source": [
        "## **Fetching the no of Secondary Skills that Matched the Required Skills**"
      ]
    },
    {
      "cell_type": "code",
      "metadata": {
        "colab": {
          "base_uri": "https://localhost:8080/"
        },
        "id": "P_qf_Vk8lpHF",
        "outputId": "9f2af4d9-4486-4b8c-ce73-c991e9cb9788"
      },
      "source": [
        "candidateUniqueSecSkill = []\n",
        "\n",
        "for candidateSkill in candidateSecondarySkill:\n",
        "  uniqueSkillSet = set()\n",
        "  for values in candidateSkill:\n",
        "    if not values:\n",
        "      uniqueSkillSet.add(0)\n",
        "    else:\n",
        "      uniqueSkillSet.add(values)\n",
        "  candidateUniqueSecSkill.append(uniqueSkillSet)\n",
        "\n",
        "candidateUniqueSecSkill"
      ],
      "execution_count": 33,
      "outputs": [
        {
          "output_type": "execute_result",
          "data": {
            "text/plain": [
              "[{'python'}, {'spring boot framework'}, set(), set(), set(), set()]"
            ]
          },
          "metadata": {
            "tags": []
          },
          "execution_count": 33
        }
      ]
    },
    {
      "cell_type": "code",
      "metadata": {
        "id": "X9OTRCqklpHH"
      },
      "source": [
        "SecSkillMatched = []\n",
        "\n",
        "for matchedSkill in candidateUniqueSecSkill:  \n",
        "  percentage = round((len(matchedSkill)/len(secondarySkills))*100)\n",
        "  SecSkillMatched.append(percentage)"
      ],
      "execution_count": 34,
      "outputs": []
    },
    {
      "cell_type": "code",
      "metadata": {
        "colab": {
          "base_uri": "https://localhost:8080/",
          "height": 336
        },
        "id": "WW7CCp-VlpHJ",
        "outputId": "e8fe7901-c1e3-4a3c-d391-9531e294da67"
      },
      "source": [
        "resume['%AdditionalSkillMatch'] = SecSkillMatched\n",
        "resume"
      ],
      "execution_count": 35,
      "outputs": [
        {
          "output_type": "execute_result",
          "data": {
            "text/html": [
              "<div>\n",
              "<style scoped>\n",
              "    .dataframe tbody tr th:only-of-type {\n",
              "        vertical-align: middle;\n",
              "    }\n",
              "\n",
              "    .dataframe tbody tr th {\n",
              "        vertical-align: top;\n",
              "    }\n",
              "\n",
              "    .dataframe thead th {\n",
              "        text-align: right;\n",
              "    }\n",
              "</style>\n",
              "<table border=\"1\" class=\"dataframe\">\n",
              "  <thead>\n",
              "    <tr style=\"text-align: right;\">\n",
              "      <th></th>\n",
              "      <th>ResumeText</th>\n",
              "      <th>Name</th>\n",
              "      <th>PhoneNo</th>\n",
              "      <th>Experience</th>\n",
              "      <th>PrimarySkills</th>\n",
              "      <th>%PrimarySkillMatch</th>\n",
              "      <th>%AdditionalSkillMatch</th>\n",
              "    </tr>\n",
              "  </thead>\n",
              "  <tbody>\n",
              "    <tr>\n",
              "      <th>0</th>\n",
              "      <td>Anusha Viraj \\nSenior Automation Engineer \\n\\...</td>\n",
              "      <td>Anusha Viraj</td>\n",
              "      <td>9543601488</td>\n",
              "      <td>8+ years</td>\n",
              "      <td>[automation, automation, automation, selenium,...</td>\n",
              "      <td>47</td>\n",
              "      <td>6</td>\n",
              "    </tr>\n",
              "    <tr>\n",
              "      <th>1</th>\n",
              "      <td>\\n\\n \\n\\n \\n\\n \\n\\n \\n\\n \\n\\n \\n\\n \\n\\n \\n\\n...</td>\n",
              "      <td>Monicaa Kuppan</td>\n",
              "      <td>+91-9880650741</td>\n",
              "      <td>​around 8+ years</td>\n",
              "      <td>[jenkins]</td>\n",
              "      <td>6</td>\n",
              "      <td>6</td>\n",
              "    </tr>\n",
              "    <tr>\n",
              "      <th>2</th>\n",
              "      <td>Shreya Anant Mahuli (MCA) \\nE-M  ail:shreyama...</td>\n",
              "      <td>Shreya Anant</td>\n",
              "      <td>9986309408</td>\n",
              "      <td>around 5+ years</td>\n",
              "      <td>[java, soap, java, java, java, soap]</td>\n",
              "      <td>12</td>\n",
              "      <td>0</td>\n",
              "    </tr>\n",
              "    <tr>\n",
              "      <th>3</th>\n",
              "      <td>Yashik Narula\\nProgrammer Analyst\\nTo Achieve...</td>\n",
              "      <td>Yashik Narula</td>\n",
              "      <td>9962117598</td>\n",
              "      <td>12/2018</td>\n",
              "      <td>[automation, selenium, selenium, testng, maven...</td>\n",
              "      <td>41</td>\n",
              "      <td>0</td>\n",
              "    </tr>\n",
              "    <tr>\n",
              "      <th>4</th>\n",
              "      <td>\\n\\n \\n\\n  \\n\\n \\n \\nObjective\\n\\n \\n\\n \\n\\n...</td>\n",
              "      <td>IT Industry</td>\n",
              "      <td>+91-7799248866</td>\n",
              "      <td>5 years</td>\n",
              "      <td>[automation testing, cucumber, selenium, autom...</td>\n",
              "      <td>35</td>\n",
              "      <td>0</td>\n",
              "    </tr>\n",
              "    <tr>\n",
              "      <th>5</th>\n",
              "      <td>Rashmi Kumari Email: er.rash.rashmi@gmail.com ...</td>\n",
              "      <td>Rashmi Kumari</td>\n",
              "      <td>+91 8904664464</td>\n",
              "      <td>almost 5 years</td>\n",
              "      <td>[java, maven, api, java]</td>\n",
              "      <td>18</td>\n",
              "      <td>0</td>\n",
              "    </tr>\n",
              "  </tbody>\n",
              "</table>\n",
              "</div>"
            ],
            "text/plain": [
              "                                          ResumeText  ... %AdditionalSkillMatch\n",
              "0   Anusha Viraj \\nSenior Automation Engineer \\n\\...  ...                     6\n",
              "1    \\n\\n \\n\\n \\n\\n \\n\\n \\n\\n \\n\\n \\n\\n \\n\\n \\n\\n...  ...                     6\n",
              "2   Shreya Anant Mahuli (MCA) \\nE-M  ail:shreyama...  ...                     0\n",
              "3   Yashik Narula\\nProgrammer Analyst\\nTo Achieve...  ...                     0\n",
              "4    \\n\\n \\n\\n  \\n\\n \\n \\nObjective\\n\\n \\n\\n \\n\\n...  ...                     0\n",
              "5  Rashmi Kumari Email: er.rash.rashmi@gmail.com ...  ...                     0\n",
              "\n",
              "[6 rows x 7 columns]"
            ]
          },
          "metadata": {
            "tags": []
          },
          "execution_count": 35
        }
      ]
    },
    {
      "cell_type": "markdown",
      "metadata": {
        "id": "LMb7jwp8vqUx"
      },
      "source": [
        "## **Scoring the Resume with Cosine Similarity**"
      ]
    },
    {
      "cell_type": "code",
      "metadata": {
        "id": "Ta8zaEI8xy4d",
        "colab": {
          "base_uri": "https://localhost:8080/",
          "height": 142
        },
        "outputId": "6543f305-c471-44f7-c1e3-b3cdd82268ba"
      },
      "source": [
        "jobDescription = extract_text_from_doc(r'/content/drive/My Drive/Kaggle/ResumeRanker/JobDescription.docx')\n",
        "jobDescription"
      ],
      "execution_count": 36,
      "outputs": [
        {
          "output_type": "execute_result",
          "data": {
            "application/vnd.google.colaboratory.intrinsic+json": {
              "type": "string"
            },
            "text/plain": [
              "'Oracle Recruiting central automation team\\xa0is looking for a\\xa0Senior test automation engineer.\\xa0The central automation team is responsible for building and maintaining the automation framework for all recruiting products under the HCM cloud business unit. We have a unique working environment where great engineers thrive & the team is made up of seasoned professionals who are open to adopting new innovative solutions. \\xa0 As a Principal Test Automation Engineer, you are responsible for, ·\\xa0\\xa0\\xa0\\xa0\\xa0\\xa0\\xa0Automate test cases using Selenium, Java, and BDD ·\\xa0\\xa0\\xa0\\xa0\\xa0\\xa0\\xa0Design & tune the automation framework for robust automation development and stable automation executions ·\\xa0\\xa0\\xa0\\xa0\\xa0\\xa0\\xa0Collaborate closely with the Quality Assurance Analysts to create and execute effective automation test suites \\xa0 Qualifications ·\\xa0\\xa0\\xa0\\xa0\\xa0\\xa0\\xa0Bachelor of Science, Computer Science/Engineering, or related discipline ·\\xa0\\xa0\\xa0\\xa0\\xa0\\xa0\\xa05+ years of hands-on experience in web application automation with Selenium & Java \\xa0 Must have skills ·\\xa0\\xa0\\xa0\\xa0\\xa0\\xa0\\xa0Well versed with Selenium, Java, Cucumber, GIT, Jenkins, and SQL ·\\xa0\\xa0\\xa0\\xa0\\xa0\\xa0\\xa0Should have abilities to build & tune an automation framework from the ground up ·\\xa0\\xa0\\xa0\\xa0\\xa0\\xa0\\xa0Well versed with automation tests execution and triaging ·\\xa0\\xa0\\xa0\\xa0\\xa0\\xa0\\xa0Experience working with cucumber framework ·\\xa0\\xa0\\xa0\\xa0\\xa0\\xa0\\xa0Excellent verbal and written communication skills Good to have skills ·\\xa0\\xa0\\xa0\\xa0\\xa0\\xa0\\xa0Perl scripting, Python scripting & cloud services ·\\xa0\\xa0\\xa0\\xa0\\xa0\\xa0\\xa0Experience working in a Recruiting domain Detailed Description and Job Requirements Responsible for developing, applying and maintaining quality standards for company products with adherence to both internal and external standards. Develops and executes software test plans. Analyzes and writes test standards and procedures. Maintains documentation of test results. Analyzes test results and recommends corrective actions. As a member of the technical/process QA division, you will develop quality standards, control methods and theories to be utilized during manufacturing, testing and inspection to access product quality. Develop standards and procedures to provide quality guidance methods. Duties and tasks are varied and complex needing independent judgment. Fully competent in own area of expertise. May have project lead role and or supervise lower level personnel. BS or MS degree or equivalent experience relevant to functional area. 4 years of software engineering or related experience.'"
            ]
          },
          "metadata": {
            "tags": []
          },
          "execution_count": 36
        }
      ]
    },
    {
      "cell_type": "code",
      "metadata": {
        "id": "IFFbqfzjvwFv"
      },
      "source": [
        "matchScore = []\n",
        "\n",
        "def resume_cosine_score(text):\n",
        "  text_list = [text, jobDescription]\n",
        "  cv = CountVectorizer()\n",
        "  count_matrix = cv.fit_transform(text_list)\n",
        "  matchPercentage = cosine_similarity(count_matrix)[0][1] * 100\n",
        "  matchPercentage = round(matchPercentage, 2) # round to two decimal\n",
        "  #key = keywords(jobDescription, ratio=0.25)) \n",
        "\n",
        "  return matchPercentage"
      ],
      "execution_count": 37,
      "outputs": []
    },
    {
      "cell_type": "code",
      "metadata": {
        "id": "MzpdVYTxykVP"
      },
      "source": [
        "for resumeItem in resumeList:\n",
        "  score = resume_cosine_score(resumeItem)\n",
        "  matchScore.append(score)"
      ],
      "execution_count": 38,
      "outputs": []
    },
    {
      "cell_type": "code",
      "metadata": {
        "colab": {
          "base_uri": "https://localhost:8080/",
          "height": 336
        },
        "id": "O_JE9QEwyxcX",
        "outputId": "61032448-795f-4bfd-ecae-cb3f3ae4c2bf"
      },
      "source": [
        "resume['CosineScore'] = matchScore\n",
        "resume"
      ],
      "execution_count": 39,
      "outputs": [
        {
          "output_type": "execute_result",
          "data": {
            "text/html": [
              "<div>\n",
              "<style scoped>\n",
              "    .dataframe tbody tr th:only-of-type {\n",
              "        vertical-align: middle;\n",
              "    }\n",
              "\n",
              "    .dataframe tbody tr th {\n",
              "        vertical-align: top;\n",
              "    }\n",
              "\n",
              "    .dataframe thead th {\n",
              "        text-align: right;\n",
              "    }\n",
              "</style>\n",
              "<table border=\"1\" class=\"dataframe\">\n",
              "  <thead>\n",
              "    <tr style=\"text-align: right;\">\n",
              "      <th></th>\n",
              "      <th>ResumeText</th>\n",
              "      <th>Name</th>\n",
              "      <th>PhoneNo</th>\n",
              "      <th>Experience</th>\n",
              "      <th>PrimarySkills</th>\n",
              "      <th>%PrimarySkillMatch</th>\n",
              "      <th>%AdditionalSkillMatch</th>\n",
              "      <th>CosineScore</th>\n",
              "    </tr>\n",
              "  </thead>\n",
              "  <tbody>\n",
              "    <tr>\n",
              "      <th>0</th>\n",
              "      <td>Anusha Viraj \\nSenior Automation Engineer \\n\\...</td>\n",
              "      <td>Anusha Viraj</td>\n",
              "      <td>9543601488</td>\n",
              "      <td>8+ years</td>\n",
              "      <td>[automation, automation, automation, selenium,...</td>\n",
              "      <td>47</td>\n",
              "      <td>6</td>\n",
              "      <td>63.60</td>\n",
              "    </tr>\n",
              "    <tr>\n",
              "      <th>1</th>\n",
              "      <td>\\n\\n \\n\\n \\n\\n \\n\\n \\n\\n \\n\\n \\n\\n \\n\\n \\n\\n...</td>\n",
              "      <td>Monicaa Kuppan</td>\n",
              "      <td>+91-9880650741</td>\n",
              "      <td>​around 8+ years</td>\n",
              "      <td>[jenkins]</td>\n",
              "      <td>6</td>\n",
              "      <td>6</td>\n",
              "      <td>55.54</td>\n",
              "    </tr>\n",
              "    <tr>\n",
              "      <th>2</th>\n",
              "      <td>Shreya Anant Mahuli (MCA) \\nE-M  ail:shreyama...</td>\n",
              "      <td>Shreya Anant</td>\n",
              "      <td>9986309408</td>\n",
              "      <td>around 5+ years</td>\n",
              "      <td>[java, soap, java, java, java, soap]</td>\n",
              "      <td>12</td>\n",
              "      <td>0</td>\n",
              "      <td>59.78</td>\n",
              "    </tr>\n",
              "    <tr>\n",
              "      <th>3</th>\n",
              "      <td>Yashik Narula\\nProgrammer Analyst\\nTo Achieve...</td>\n",
              "      <td>Yashik Narula</td>\n",
              "      <td>9962117598</td>\n",
              "      <td>12/2018</td>\n",
              "      <td>[automation, selenium, selenium, testng, maven...</td>\n",
              "      <td>41</td>\n",
              "      <td>0</td>\n",
              "      <td>60.90</td>\n",
              "    </tr>\n",
              "    <tr>\n",
              "      <th>4</th>\n",
              "      <td>\\n\\n \\n\\n  \\n\\n \\n \\nObjective\\n\\n \\n\\n \\n\\n...</td>\n",
              "      <td>IT Industry</td>\n",
              "      <td>+91-7799248866</td>\n",
              "      <td>5 years</td>\n",
              "      <td>[automation testing, cucumber, selenium, autom...</td>\n",
              "      <td>35</td>\n",
              "      <td>0</td>\n",
              "      <td>67.06</td>\n",
              "    </tr>\n",
              "    <tr>\n",
              "      <th>5</th>\n",
              "      <td>Rashmi Kumari Email: er.rash.rashmi@gmail.com ...</td>\n",
              "      <td>Rashmi Kumari</td>\n",
              "      <td>+91 8904664464</td>\n",
              "      <td>almost 5 years</td>\n",
              "      <td>[java, maven, api, java]</td>\n",
              "      <td>18</td>\n",
              "      <td>0</td>\n",
              "      <td>63.24</td>\n",
              "    </tr>\n",
              "  </tbody>\n",
              "</table>\n",
              "</div>"
            ],
            "text/plain": [
              "                                          ResumeText  ... CosineScore\n",
              "0   Anusha Viraj \\nSenior Automation Engineer \\n\\...  ...       63.60\n",
              "1    \\n\\n \\n\\n \\n\\n \\n\\n \\n\\n \\n\\n \\n\\n \\n\\n \\n\\n...  ...       55.54\n",
              "2   Shreya Anant Mahuli (MCA) \\nE-M  ail:shreyama...  ...       59.78\n",
              "3   Yashik Narula\\nProgrammer Analyst\\nTo Achieve...  ...       60.90\n",
              "4    \\n\\n \\n\\n  \\n\\n \\n \\nObjective\\n\\n \\n\\n \\n\\n...  ...       67.06\n",
              "5  Rashmi Kumari Email: er.rash.rashmi@gmail.com ...  ...       63.24\n",
              "\n",
              "[6 rows x 8 columns]"
            ]
          },
          "metadata": {
            "tags": []
          },
          "execution_count": 39
        }
      ]
    },
    {
      "cell_type": "markdown",
      "metadata": {
        "id": "NZq-BT5mpT7A"
      },
      "source": [
        "## **Total Score for Candidate**"
      ]
    },
    {
      "cell_type": "code",
      "metadata": {
        "colab": {
          "base_uri": "https://localhost:8080/",
          "height": 370
        },
        "id": "bpzw_oE0pcpL",
        "outputId": "d49e7299-b0ab-46c0-de84-91bc24601db6"
      },
      "source": [
        "resume[\"TotalScore\"] = resume['%PrimarySkillMatch'] + resume['%AdditionalSkillMatch'] + resume['CosineScore']\n",
        "resume"
      ],
      "execution_count": 40,
      "outputs": [
        {
          "output_type": "execute_result",
          "data": {
            "text/html": [
              "<div>\n",
              "<style scoped>\n",
              "    .dataframe tbody tr th:only-of-type {\n",
              "        vertical-align: middle;\n",
              "    }\n",
              "\n",
              "    .dataframe tbody tr th {\n",
              "        vertical-align: top;\n",
              "    }\n",
              "\n",
              "    .dataframe thead th {\n",
              "        text-align: right;\n",
              "    }\n",
              "</style>\n",
              "<table border=\"1\" class=\"dataframe\">\n",
              "  <thead>\n",
              "    <tr style=\"text-align: right;\">\n",
              "      <th></th>\n",
              "      <th>ResumeText</th>\n",
              "      <th>Name</th>\n",
              "      <th>PhoneNo</th>\n",
              "      <th>Experience</th>\n",
              "      <th>PrimarySkills</th>\n",
              "      <th>%PrimarySkillMatch</th>\n",
              "      <th>%AdditionalSkillMatch</th>\n",
              "      <th>CosineScore</th>\n",
              "      <th>TotalScore</th>\n",
              "    </tr>\n",
              "  </thead>\n",
              "  <tbody>\n",
              "    <tr>\n",
              "      <th>0</th>\n",
              "      <td>Anusha Viraj \\nSenior Automation Engineer \\n\\...</td>\n",
              "      <td>Anusha Viraj</td>\n",
              "      <td>9543601488</td>\n",
              "      <td>8+ years</td>\n",
              "      <td>[automation, automation, automation, selenium,...</td>\n",
              "      <td>47</td>\n",
              "      <td>6</td>\n",
              "      <td>63.60</td>\n",
              "      <td>116.60</td>\n",
              "    </tr>\n",
              "    <tr>\n",
              "      <th>1</th>\n",
              "      <td>\\n\\n \\n\\n \\n\\n \\n\\n \\n\\n \\n\\n \\n\\n \\n\\n \\n\\n...</td>\n",
              "      <td>Monicaa Kuppan</td>\n",
              "      <td>+91-9880650741</td>\n",
              "      <td>​around 8+ years</td>\n",
              "      <td>[jenkins]</td>\n",
              "      <td>6</td>\n",
              "      <td>6</td>\n",
              "      <td>55.54</td>\n",
              "      <td>67.54</td>\n",
              "    </tr>\n",
              "    <tr>\n",
              "      <th>2</th>\n",
              "      <td>Shreya Anant Mahuli (MCA) \\nE-M  ail:shreyama...</td>\n",
              "      <td>Shreya Anant</td>\n",
              "      <td>9986309408</td>\n",
              "      <td>around 5+ years</td>\n",
              "      <td>[java, soap, java, java, java, soap]</td>\n",
              "      <td>12</td>\n",
              "      <td>0</td>\n",
              "      <td>59.78</td>\n",
              "      <td>71.78</td>\n",
              "    </tr>\n",
              "    <tr>\n",
              "      <th>3</th>\n",
              "      <td>Yashik Narula\\nProgrammer Analyst\\nTo Achieve...</td>\n",
              "      <td>Yashik Narula</td>\n",
              "      <td>9962117598</td>\n",
              "      <td>12/2018</td>\n",
              "      <td>[automation, selenium, selenium, testng, maven...</td>\n",
              "      <td>41</td>\n",
              "      <td>0</td>\n",
              "      <td>60.90</td>\n",
              "      <td>101.90</td>\n",
              "    </tr>\n",
              "    <tr>\n",
              "      <th>4</th>\n",
              "      <td>\\n\\n \\n\\n  \\n\\n \\n \\nObjective\\n\\n \\n\\n \\n\\n...</td>\n",
              "      <td>IT Industry</td>\n",
              "      <td>+91-7799248866</td>\n",
              "      <td>5 years</td>\n",
              "      <td>[automation testing, cucumber, selenium, autom...</td>\n",
              "      <td>35</td>\n",
              "      <td>0</td>\n",
              "      <td>67.06</td>\n",
              "      <td>102.06</td>\n",
              "    </tr>\n",
              "    <tr>\n",
              "      <th>5</th>\n",
              "      <td>Rashmi Kumari Email: er.rash.rashmi@gmail.com ...</td>\n",
              "      <td>Rashmi Kumari</td>\n",
              "      <td>+91 8904664464</td>\n",
              "      <td>almost 5 years</td>\n",
              "      <td>[java, maven, api, java]</td>\n",
              "      <td>18</td>\n",
              "      <td>0</td>\n",
              "      <td>63.24</td>\n",
              "      <td>81.24</td>\n",
              "    </tr>\n",
              "  </tbody>\n",
              "</table>\n",
              "</div>"
            ],
            "text/plain": [
              "                                          ResumeText  ... TotalScore\n",
              "0   Anusha Viraj \\nSenior Automation Engineer \\n\\...  ...     116.60\n",
              "1    \\n\\n \\n\\n \\n\\n \\n\\n \\n\\n \\n\\n \\n\\n \\n\\n \\n\\n...  ...      67.54\n",
              "2   Shreya Anant Mahuli (MCA) \\nE-M  ail:shreyama...  ...      71.78\n",
              "3   Yashik Narula\\nProgrammer Analyst\\nTo Achieve...  ...     101.90\n",
              "4    \\n\\n \\n\\n  \\n\\n \\n \\nObjective\\n\\n \\n\\n \\n\\n...  ...     102.06\n",
              "5  Rashmi Kumari Email: er.rash.rashmi@gmail.com ...  ...      81.24\n",
              "\n",
              "[6 rows x 9 columns]"
            ]
          },
          "metadata": {
            "tags": []
          },
          "execution_count": 40
        }
      ]
    },
    {
      "cell_type": "code",
      "metadata": {
        "colab": {
          "base_uri": "https://localhost:8080/",
          "height": 235
        },
        "id": "jClbz2e-5Xp_",
        "outputId": "c8d4d3d8-4eb0-4473-b7c3-adc3faca9aa0"
      },
      "source": [
        "resume.drop(['ResumeText'], axis=1, inplace = True)\n",
        "resume.sort_values(by=['TotalScore'], ascending=False, inplace= True)\n",
        "resume"
      ],
      "execution_count": 41,
      "outputs": [
        {
          "output_type": "execute_result",
          "data": {
            "text/html": [
              "<div>\n",
              "<style scoped>\n",
              "    .dataframe tbody tr th:only-of-type {\n",
              "        vertical-align: middle;\n",
              "    }\n",
              "\n",
              "    .dataframe tbody tr th {\n",
              "        vertical-align: top;\n",
              "    }\n",
              "\n",
              "    .dataframe thead th {\n",
              "        text-align: right;\n",
              "    }\n",
              "</style>\n",
              "<table border=\"1\" class=\"dataframe\">\n",
              "  <thead>\n",
              "    <tr style=\"text-align: right;\">\n",
              "      <th></th>\n",
              "      <th>Name</th>\n",
              "      <th>PhoneNo</th>\n",
              "      <th>Experience</th>\n",
              "      <th>PrimarySkills</th>\n",
              "      <th>%PrimarySkillMatch</th>\n",
              "      <th>%AdditionalSkillMatch</th>\n",
              "      <th>CosineScore</th>\n",
              "      <th>TotalScore</th>\n",
              "    </tr>\n",
              "  </thead>\n",
              "  <tbody>\n",
              "    <tr>\n",
              "      <th>0</th>\n",
              "      <td>Anusha Viraj</td>\n",
              "      <td>9543601488</td>\n",
              "      <td>8+ years</td>\n",
              "      <td>[automation, automation, automation, selenium,...</td>\n",
              "      <td>47</td>\n",
              "      <td>6</td>\n",
              "      <td>63.60</td>\n",
              "      <td>116.60</td>\n",
              "    </tr>\n",
              "    <tr>\n",
              "      <th>4</th>\n",
              "      <td>IT Industry</td>\n",
              "      <td>+91-7799248866</td>\n",
              "      <td>5 years</td>\n",
              "      <td>[automation testing, cucumber, selenium, autom...</td>\n",
              "      <td>35</td>\n",
              "      <td>0</td>\n",
              "      <td>67.06</td>\n",
              "      <td>102.06</td>\n",
              "    </tr>\n",
              "    <tr>\n",
              "      <th>3</th>\n",
              "      <td>Yashik Narula</td>\n",
              "      <td>9962117598</td>\n",
              "      <td>12/2018</td>\n",
              "      <td>[automation, selenium, selenium, testng, maven...</td>\n",
              "      <td>41</td>\n",
              "      <td>0</td>\n",
              "      <td>60.90</td>\n",
              "      <td>101.90</td>\n",
              "    </tr>\n",
              "    <tr>\n",
              "      <th>5</th>\n",
              "      <td>Rashmi Kumari</td>\n",
              "      <td>+91 8904664464</td>\n",
              "      <td>almost 5 years</td>\n",
              "      <td>[java, maven, api, java]</td>\n",
              "      <td>18</td>\n",
              "      <td>0</td>\n",
              "      <td>63.24</td>\n",
              "      <td>81.24</td>\n",
              "    </tr>\n",
              "    <tr>\n",
              "      <th>2</th>\n",
              "      <td>Shreya Anant</td>\n",
              "      <td>9986309408</td>\n",
              "      <td>around 5+ years</td>\n",
              "      <td>[java, soap, java, java, java, soap]</td>\n",
              "      <td>12</td>\n",
              "      <td>0</td>\n",
              "      <td>59.78</td>\n",
              "      <td>71.78</td>\n",
              "    </tr>\n",
              "    <tr>\n",
              "      <th>1</th>\n",
              "      <td>Monicaa Kuppan</td>\n",
              "      <td>+91-9880650741</td>\n",
              "      <td>​around 8+ years</td>\n",
              "      <td>[jenkins]</td>\n",
              "      <td>6</td>\n",
              "      <td>6</td>\n",
              "      <td>55.54</td>\n",
              "      <td>67.54</td>\n",
              "    </tr>\n",
              "  </tbody>\n",
              "</table>\n",
              "</div>"
            ],
            "text/plain": [
              "             Name         PhoneNo  ... CosineScore TotalScore\n",
              "0    Anusha Viraj      9543601488  ...       63.60     116.60\n",
              "4     IT Industry  +91-7799248866  ...       67.06     102.06\n",
              "3   Yashik Narula      9962117598  ...       60.90     101.90\n",
              "5   Rashmi Kumari  +91 8904664464  ...       63.24      81.24\n",
              "2    Shreya Anant      9986309408  ...       59.78      71.78\n",
              "1  Monicaa Kuppan  +91-9880650741  ...       55.54      67.54\n",
              "\n",
              "[6 rows x 8 columns]"
            ]
          },
          "metadata": {
            "tags": []
          },
          "execution_count": 41
        }
      ]
    },
    {
      "cell_type": "markdown",
      "metadata": {
        "id": "eGnmtsvs66Z8"
      },
      "source": [
        "## **Visualizing the Name with Highest Score**"
      ]
    },
    {
      "cell_type": "code",
      "metadata": {
        "colab": {
          "base_uri": "https://localhost:8080/",
          "height": 352
        },
        "id": "9P5MQu507KkG",
        "outputId": "33b7f0f5-2166-4dfd-d683-5b44c60a5a5a"
      },
      "source": [
        "sns.barplot('TotalScore', 'Name', data=resume)"
      ],
      "execution_count": 42,
      "outputs": [
        {
          "output_type": "stream",
          "text": [
            "/usr/local/lib/python3.7/dist-packages/seaborn/_decorators.py:43: FutureWarning: Pass the following variables as keyword args: x, y. From version 0.12, the only valid positional argument will be `data`, and passing other arguments without an explicit keyword will result in an error or misinterpretation.\n",
            "  FutureWarning\n"
          ],
          "name": "stderr"
        },
        {
          "output_type": "execute_result",
          "data": {
            "text/plain": [
              "<matplotlib.axes._subplots.AxesSubplot at 0x7f619b428ad0>"
            ]
          },
          "metadata": {
            "tags": []
          },
          "execution_count": 42
        },
        {
          "output_type": "display_data",
          "data": {
            "image/png": "[encoded data removed]",
            "text/plain": [
              "<Figure size 432x288 with 1 Axes>"
            ]
          },
          "metadata": {
            "tags": [],
            "needs_background": "light"
          }
        }
      ]
    },
    {
      "cell_type": "markdown",
      "metadata": {
        "id": "hFuvLBXU2mAC"
      },
      "source": [
        "## **Summarizing the Resume**"
      ]
    },
    {
      "cell_type": "code",
      "metadata": {
        "id": "z1e4Jmm12q9_"
      },
      "source": [
        "resumeSummary = [] \n",
        "for resumeItem in resumeList:\n",
        "  summary = summarize(resumeItem, ratio=0.25)\n",
        "  resumeSummary.append(summary)\n",
        "\n",
        "# resume['Summary'] = resumeSummary\n",
        "# resume"
      ],
      "execution_count": 43,
      "outputs": []
    },
    {
      "cell_type": "code",
      "metadata": {
        "id": "4TiuVJ0Y2yBD",
        "colab": {
          "base_uri": "https://localhost:8080/",
          "height": 142
        },
        "outputId": "95b9f701-ecd3-4677-823b-7dc4554a467d"
      },
      "source": [
        "resumeSummary[2]"
      ],
      "execution_count": 45,
      "outputs": [
        {
          "output_type": "execute_result",
          "data": {
            "application/vnd.google.colaboratory.intrinsic+json": {
              "type": "string"
            },
            "text/plain": [
              "'experience and exposure to Software Development Life Cycle with experience in Requirements Gathering, Design, \\n\\uf0d8   Good experience in  banking and device management domain specific to both Web and Windows applications  \\nDevelopment using OOPs methodologies in J2EE technology.\\n\\uf0d8  Experience in application development using Servlets, JSP, Java script, SOAP based(WSDL) Web services, \\nStruts, XML, XQuery, XPath, DOM, XSLT, SAX, and design patterns \\n\\uf0d8  Experience in building dynamic web applications using Tomcat, Jboss & web logic application servers \\n\\uf0d8  A keen learner, implementer with demonstrated abilities in planning & completion of the project.\\n\\uf0d8  Flexible and versatile to adapt to any new environment and work on any projects with excellent communication \\n\\uf0d8  Coding, validating, testing server side components and releasing of various modules \\n\\uf0d8  Solely Responsible for application development ,testing and release in production.\\nWEB TECHNOLOGIES \\nServlets, JSP,Java script, Web services, \\nTesting tool : SOAP UI \\nMaster of Computer Application (MCA) from Shivaji University, Kolhapur – Graduated in 2008 Batch (First Class) \\n\\uf0d8  Senior Member Of Technical Staff, Aug 2017– till date \\nOracle ADF(Application development Framework) \\nOracle  Application  Development  Framework  (Oracle  ADF)  is  an  end-to-end \\napplication  framework  that  builds  on  Java  EE  standards  and  open-source \\ntechnologies to simplify and accelerate implementing enterprise applications.\\napplications that search, display, create, modify, and validate data using web, \\n\\uf0d8  Senior Software Engineer, feb 2016 – May 2017 \\nApplication Server :Weblogic 12.1.3 \\nall light, medium and heavy vehicles.It is designed to enable fleet managers \\n\\uf0d8  Software Engineer, march 2014 – feb 2016 \\nHCL Technologies \\nLanguages: Java, Servlets, JSP, \\nFrameworks : Struts, JDBC \\nApplication Server :Weblogic 10.3.5/Weblogic 12.1 \\nGDH Workbench is web based portal which is used for data maintenance and \\nreporting.Various applications like Ad-hoc Query, Generic Data Maintenance, \\nvarious applications in GDH workbench.\\nbuilding source code , deployment files, and deploying application \\nProject Members :8 \\nLanguages: Core Java \\nWeb technologies: Servlets, Web services,XML,XSLT \\nProject Description \\nProject Description \\nProject Description \\nMaster of computer applications \\nSenior Software Engineer \\nI hereby declare that the above furnished details are true to the best of my Knowledge.'"
            ]
          },
          "metadata": {
            "tags": []
          },
          "execution_count": 45
        }
      ]
    }
  ]
}